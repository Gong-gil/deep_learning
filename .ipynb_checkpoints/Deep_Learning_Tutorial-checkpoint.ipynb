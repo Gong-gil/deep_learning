{
 "cells": [
  {
   "cell_type": "code",
   "execution_count": 13,
   "id": "7b1675d8",
   "metadata": {},
   "outputs": [
    {
     "name": "stdout",
     "output_type": "stream",
     "text": [
      "Epoch 1/100\n",
      "47/47 [==============================] - 0s 580us/step - loss: 0.8781 - accuracy: 0.7774\n",
      "Epoch 2/100\n",
      "47/47 [==============================] - 0s 557us/step - loss: 0.4637 - accuracy: 0.8707\n",
      "Epoch 3/100\n",
      "47/47 [==============================] - 0s 412us/step - loss: 0.4652 - accuracy: 0.8347\n",
      "Epoch 4/100\n",
      "47/47 [==============================] - 0s 416us/step - loss: 0.5176 - accuracy: 0.8405\n",
      "Epoch 5/100\n",
      "47/47 [==============================] - 0s 476us/step - loss: 0.4461 - accuracy: 0.8570\n",
      "Epoch 6/100\n",
      "47/47 [==============================] - 0s 455us/step - loss: 0.4391 - accuracy: 0.8523\n",
      "Epoch 7/100\n",
      "47/47 [==============================] - 0s 434us/step - loss: 0.4616 - accuracy: 0.8443\n",
      "Epoch 8/100\n",
      "47/47 [==============================] - 0s 458us/step - loss: 0.4523 - accuracy: 0.8447\n",
      "Epoch 9/100\n",
      "47/47 [==============================] - 0s 526us/step - loss: 0.3877 - accuracy: 0.8618\n",
      "Epoch 10/100\n",
      "47/47 [==============================] - 0s 476us/step - loss: 0.3944 - accuracy: 0.8697\n",
      "Epoch 11/100\n",
      "47/47 [==============================] - 0s 458us/step - loss: 0.4379 - accuracy: 0.8480\n",
      "Epoch 12/100\n",
      "47/47 [==============================] - 0s 412us/step - loss: 0.4470 - accuracy: 0.8449\n",
      "Epoch 13/100\n",
      "47/47 [==============================] - 0s 412us/step - loss: 0.4789 - accuracy: 0.8302\n",
      "Epoch 14/100\n",
      "47/47 [==============================] - 0s 446us/step - loss: 0.4402 - accuracy: 0.8438\n",
      "Epoch 15/100\n",
      "47/47 [==============================] - 0s 452us/step - loss: 0.4928 - accuracy: 0.8220\n",
      "Epoch 16/100\n",
      "47/47 [==============================] - 0s 469us/step - loss: 0.4119 - accuracy: 0.8534\n",
      "Epoch 17/100\n",
      "47/47 [==============================] - 0s 470us/step - loss: 0.4383 - accuracy: 0.8564\n",
      "Epoch 18/100\n",
      "47/47 [==============================] - 0s 459us/step - loss: 0.4807 - accuracy: 0.8556\n",
      "Epoch 19/100\n",
      "47/47 [==============================] - 0s 434us/step - loss: 0.4253 - accuracy: 0.8459\n",
      "Epoch 20/100\n",
      "47/47 [==============================] - 0s 455us/step - loss: 0.4403 - accuracy: 0.8561\n",
      "Epoch 21/100\n",
      "47/47 [==============================] - 0s 455us/step - loss: 0.4191 - accuracy: 0.8513\n",
      "Epoch 22/100\n",
      "47/47 [==============================] - 0s 487us/step - loss: 0.4100 - accuracy: 0.8554\n",
      "Epoch 23/100\n",
      "47/47 [==============================] - 0s 455us/step - loss: 0.4205 - accuracy: 0.8538\n",
      "Epoch 24/100\n",
      "47/47 [==============================] - 0s 431us/step - loss: 0.4226 - accuracy: 0.8471\n",
      "Epoch 25/100\n",
      "47/47 [==============================] - 0s 468us/step - loss: 0.4349 - accuracy: 0.8394\n",
      "Epoch 26/100\n",
      "47/47 [==============================] - 0s 450us/step - loss: 0.4526 - accuracy: 0.8552\n",
      "Epoch 27/100\n",
      "47/47 [==============================] - 0s 433us/step - loss: 0.4590 - accuracy: 0.8312\n",
      "Epoch 28/100\n",
      "47/47 [==============================] - 0s 412us/step - loss: 0.4469 - accuracy: 0.8461\n",
      "Epoch 29/100\n",
      "47/47 [==============================] - 0s 412us/step - loss: 0.3775 - accuracy: 0.8803\n",
      "Epoch 30/100\n",
      "47/47 [==============================] - 0s 547us/step - loss: 0.3581 - accuracy: 0.8892\n",
      "Epoch 31/100\n",
      "47/47 [==============================] - 0s 694us/step - loss: 0.4157 - accuracy: 0.8745\n",
      "Epoch 32/100\n",
      "47/47 [==============================] - 0s 625us/step - loss: 0.4037 - accuracy: 0.8639\n",
      "Epoch 33/100\n",
      "47/47 [==============================] - 0s 482us/step - loss: 0.4367 - accuracy: 0.8560\n",
      "Epoch 34/100\n",
      "47/47 [==============================] - 0s 521us/step - loss: 0.3961 - accuracy: 0.8582\n",
      "Epoch 35/100\n",
      "47/47 [==============================] - 0s 461us/step - loss: 0.4047 - accuracy: 0.8514\n",
      "Epoch 36/100\n",
      "47/47 [==============================] - 0s 493us/step - loss: 0.4423 - accuracy: 0.8340\n",
      "Epoch 37/100\n",
      "47/47 [==============================] - 0s 434us/step - loss: 0.4449 - accuracy: 0.8519\n",
      "Epoch 38/100\n",
      "47/47 [==============================] - 0s 412us/step - loss: 0.4314 - accuracy: 0.8452\n",
      "Epoch 39/100\n",
      "47/47 [==============================] - 0s 455us/step - loss: 0.4797 - accuracy: 0.8291\n",
      "Epoch 40/100\n",
      "47/47 [==============================] - 0s 449us/step - loss: 0.4177 - accuracy: 0.8508\n",
      "Epoch 41/100\n",
      "47/47 [==============================] - 0s 423us/step - loss: 0.4472 - accuracy: 0.8508\n",
      "Epoch 42/100\n",
      "47/47 [==============================] - 0s 429us/step - loss: 0.4340 - accuracy: 0.8517\n",
      "Epoch 43/100\n",
      "47/47 [==============================] - 0s 476us/step - loss: 0.3614 - accuracy: 0.8727\n",
      "Epoch 44/100\n",
      "47/47 [==============================] - 0s 455us/step - loss: 0.3523 - accuracy: 0.8783\n",
      "Epoch 45/100\n",
      "47/47 [==============================] - 0s 494us/step - loss: 0.3800 - accuracy: 0.8555\n",
      "Epoch 46/100\n",
      "47/47 [==============================] - 0s 434us/step - loss: 0.4116 - accuracy: 0.8546\n",
      "Epoch 47/100\n",
      "47/47 [==============================] - 0s 439us/step - loss: 0.3496 - accuracy: 0.8812\n",
      "Epoch 48/100\n",
      "47/47 [==============================] - 0s 412us/step - loss: 0.3902 - accuracy: 0.8645\n",
      "Epoch 49/100\n",
      "47/47 [==============================] - 0s 412us/step - loss: 0.4169 - accuracy: 0.8361\n",
      "Epoch 50/100\n",
      "47/47 [==============================] - 0s 412us/step - loss: 0.3604 - accuracy: 0.8783\n",
      "Epoch 51/100\n",
      "47/47 [==============================] - 0s 477us/step - loss: 0.4260 - accuracy: 0.8457\n",
      "Epoch 52/100\n",
      "47/47 [==============================] - 0s 434us/step - loss: 0.4176 - accuracy: 0.8520\n",
      "Epoch 53/100\n",
      "47/47 [==============================] - 0s 434us/step - loss: 0.4213 - accuracy: 0.8481\n",
      "Epoch 54/100\n",
      "47/47 [==============================] - 0s 441us/step - loss: 0.4200 - accuracy: 0.8348\n",
      "Epoch 55/100\n",
      "47/47 [==============================] - 0s 455us/step - loss: 0.4092 - accuracy: 0.8632\n",
      "Epoch 56/100\n",
      "47/47 [==============================] - 0s 443us/step - loss: 0.3982 - accuracy: 0.8476\n",
      "Epoch 57/100\n",
      "47/47 [==============================] - 0s 470us/step - loss: 0.4001 - accuracy: 0.8525\n",
      "Epoch 58/100\n",
      "47/47 [==============================] - 0s 390us/step - loss: 0.3528 - accuracy: 0.8703\n",
      "Epoch 59/100\n",
      "47/47 [==============================] - 0s 442us/step - loss: 0.4201 - accuracy: 0.8475\n",
      "Epoch 60/100\n",
      "47/47 [==============================] - 0s 477us/step - loss: 0.3578 - accuracy: 0.8774\n",
      "Epoch 61/100\n",
      "47/47 [==============================] - 0s 451us/step - loss: 0.3907 - accuracy: 0.8725\n",
      "Epoch 62/100\n",
      "47/47 [==============================] - 0s 412us/step - loss: 0.4215 - accuracy: 0.8389\n",
      "Epoch 63/100\n",
      "47/47 [==============================] - 0s 422us/step - loss: 0.3711 - accuracy: 0.8686\n",
      "Epoch 64/100\n",
      "47/47 [==============================] - 0s 440us/step - loss: 0.4243 - accuracy: 0.8525\n",
      "Epoch 65/100\n",
      "47/47 [==============================] - 0s 452us/step - loss: 0.3775 - accuracy: 0.8639\n",
      "Epoch 66/100\n",
      "47/47 [==============================] - 0s 446us/step - loss: 0.4256 - accuracy: 0.8517\n",
      "Epoch 67/100\n",
      "47/47 [==============================] - 0s 412us/step - loss: 0.3803 - accuracy: 0.8612\n",
      "Epoch 68/100\n",
      "47/47 [==============================] - 0s 448us/step - loss: 0.4071 - accuracy: 0.8624\n",
      "Epoch 69/100\n",
      "47/47 [==============================] - 0s 453us/step - loss: 0.4336 - accuracy: 0.8197\n",
      "Epoch 70/100\n",
      "47/47 [==============================] - 0s 445us/step - loss: 0.4068 - accuracy: 0.8519\n",
      "Epoch 71/100\n",
      "47/47 [==============================] - 0s 472us/step - loss: 0.4412 - accuracy: 0.8194\n",
      "Epoch 72/100\n",
      "47/47 [==============================] - 0s 455us/step - loss: 0.3777 - accuracy: 0.8554\n",
      "Epoch 73/100\n",
      "47/47 [==============================] - 0s 428us/step - loss: 0.4042 - accuracy: 0.8489\n",
      "Epoch 74/100\n",
      "47/47 [==============================] - 0s 449us/step - loss: 0.3783 - accuracy: 0.8595\n",
      "Epoch 75/100\n",
      "47/47 [==============================] - 0s 433us/step - loss: 0.3516 - accuracy: 0.8812\n",
      "Epoch 76/100\n",
      "47/47 [==============================] - 0s 467us/step - loss: 0.3733 - accuracy: 0.8629\n",
      "Epoch 77/100\n",
      "47/47 [==============================] - 0s 433us/step - loss: 0.4473 - accuracy: 0.8247\n",
      "Epoch 78/100\n",
      "47/47 [==============================] - 0s 481us/step - loss: 0.3992 - accuracy: 0.8696\n",
      "Epoch 79/100\n",
      "47/47 [==============================] - 0s 434us/step - loss: 0.4184 - accuracy: 0.8299\n",
      "Epoch 80/100\n",
      "47/47 [==============================] - 0s 419us/step - loss: 0.4250 - accuracy: 0.8335\n",
      "Epoch 81/100\n",
      "47/47 [==============================] - 0s 455us/step - loss: 0.3712 - accuracy: 0.8793\n",
      "Epoch 82/100\n",
      "47/47 [==============================] - 0s 455us/step - loss: 0.4214 - accuracy: 0.8487\n",
      "Epoch 83/100\n",
      "47/47 [==============================] - 0s 434us/step - loss: 0.4450 - accuracy: 0.8381\n",
      "Epoch 84/100\n",
      "47/47 [==============================] - 0s 408us/step - loss: 0.3537 - accuracy: 0.8840\n",
      "Epoch 85/100\n",
      "47/47 [==============================] - 0s 412us/step - loss: 0.3822 - accuracy: 0.8617\n",
      "Epoch 86/100\n",
      "47/47 [==============================] - 0s 390us/step - loss: 0.3410 - accuracy: 0.8688\n",
      "Epoch 87/100\n",
      "47/47 [==============================] - 0s 412us/step - loss: 0.3933 - accuracy: 0.8567\n",
      "Epoch 88/100\n",
      "47/47 [==============================] - 0s 390us/step - loss: 0.3747 - accuracy: 0.8538\n",
      "Epoch 89/100\n",
      "47/47 [==============================] - 0s 410us/step - loss: 0.3942 - accuracy: 0.8320\n",
      "Epoch 90/100\n",
      "47/47 [==============================] - 0s 433us/step - loss: 0.3722 - accuracy: 0.8768\n",
      "Epoch 91/100\n",
      "47/47 [==============================] - 0s 455us/step - loss: 0.4208 - accuracy: 0.8516\n",
      "Epoch 92/100\n",
      "47/47 [==============================] - 0s 455us/step - loss: 0.4239 - accuracy: 0.8407\n",
      "Epoch 93/100\n",
      "47/47 [==============================] - 0s 433us/step - loss: 0.4079 - accuracy: 0.8362\n",
      "Epoch 94/100\n",
      "47/47 [==============================] - 0s 449us/step - loss: 0.3913 - accuracy: 0.8367\n",
      "Epoch 95/100\n",
      "47/47 [==============================] - 0s 412us/step - loss: 0.4023 - accuracy: 0.8584\n",
      "Epoch 96/100\n",
      "47/47 [==============================] - 0s 412us/step - loss: 0.4342 - accuracy: 0.8596\n",
      "Epoch 97/100\n",
      "47/47 [==============================] - 0s 446us/step - loss: 0.4469 - accuracy: 0.8137\n",
      "Epoch 98/100\n",
      "47/47 [==============================] - 0s 446us/step - loss: 0.3893 - accuracy: 0.8690\n",
      "Epoch 99/100\n",
      "47/47 [==============================] - 0s 412us/step - loss: 0.3737 - accuracy: 0.8620\n",
      "Epoch 100/100\n",
      "47/47 [==============================] - 0s 416us/step - loss: 0.3956 - accuracy: 0.8330\n"
     ]
    },
    {
     "data": {
      "text/plain": [
       "<tensorflow.python.keras.callbacks.History at 0x20f0e890f70>"
      ]
     },
     "execution_count": 13,
     "metadata": {},
     "output_type": "execute_result"
    }
   ],
   "source": [
    "# 딥러닝을 구동하는데 필요한 케라스 합수를 불러온다\n",
    "from tensorflow.keras.models import Sequential\n",
    "from tensorflow.keras.layers import Dense\n",
    "\n",
    "# 필요한 라이브러리를 불러온다\n",
    "import numpy as np \n",
    "import tensorflow as tf\n",
    "\n",
    "# 실행할 때마다 같은 결과를 출력하기 위해 설정하는 부분\n",
    "np.random.seed(3)\n",
    "tf.random.set_seed(3)\n",
    "\n",
    "#준비도니 수술 환자 데이터를 불러온다.\n",
    "Data_set = np.loadtxt(\"ThoraricSurgery.csv\", delimiter=',')\n",
    "\n",
    "# 환자의 기록과 수술 결과를X와Y로 구분하여 저장\n",
    "X = Data_set[:, 0:17]\n",
    "Y = Data_set[:, 17]\n",
    "\n",
    "# 딥러닝 구조를 결정한다.(모델을 설정하고 실행하는 부분)\n",
    "model= Sequential()\n",
    "model.add(Dense(30, input_dim=17, activation='relu'))\n",
    "model.add(Dense(1, activation='sigmoid'))\n",
    "\n",
    "# 딥러닝을 실행\n",
    "model.compile(loss='binary_crossentropy', optimizer='adam', metrics=['accuracy'])\n",
    "model.fit(X,Y, epochs=100, batch_size=10)"
   ]
  },
  {
   "cell_type": "code",
   "execution_count": 24,
   "id": "440fa9d2",
   "metadata": {},
   "outputs": [
    {
     "name": "stdout",
     "output_type": "stream",
     "text": [
      "[1.         1.00502513 1.01005025 1.01507538 1.0201005  1.02512563\n",
      " 1.03015075 1.03517588 1.04020101 1.04522613 1.05025126 1.05527638\n",
      " 1.06030151 1.06532663 1.07035176 1.07537688 1.08040201 1.08542714\n",
      " 1.09045226 1.09547739 1.10050251 1.10552764 1.11055276 1.11557789\n",
      " 1.12060302 1.12562814 1.13065327 1.13567839 1.14070352 1.14572864\n",
      " 1.15075377 1.15577889 1.16080402 1.16582915 1.17085427 1.1758794\n",
      " 1.18090452 1.18592965 1.19095477 1.1959799  1.20100503 1.20603015\n",
      " 1.21105528 1.2160804  1.22110553 1.22613065 1.23115578 1.2361809\n",
      " 1.24120603 1.24623116 1.25125628 1.25628141 1.26130653 1.26633166\n",
      " 1.27135678 1.27638191 1.28140704 1.28643216 1.29145729 1.29648241\n",
      " 1.30150754 1.30653266 1.31155779 1.31658291 1.32160804 1.32663317\n",
      " 1.33165829 1.33668342 1.34170854 1.34673367 1.35175879 1.35678392\n",
      " 1.36180905 1.36683417 1.3718593  1.37688442 1.38190955 1.38693467\n",
      " 1.3919598  1.39698492 1.40201005 1.40703518 1.4120603  1.41708543\n",
      " 1.42211055 1.42713568 1.4321608  1.43718593 1.44221106 1.44723618\n",
      " 1.45226131 1.45728643 1.46231156 1.46733668 1.47236181 1.47738693\n",
      " 1.48241206 1.48743719 1.49246231 1.49748744 1.50251256 1.50753769\n",
      " 1.51256281 1.51758794 1.52261307 1.52763819 1.53266332 1.53768844\n",
      " 1.54271357 1.54773869 1.55276382 1.55778894 1.56281407 1.5678392\n",
      " 1.57286432 1.57788945 1.58291457 1.5879397  1.59296482 1.59798995\n",
      " 1.60301508 1.6080402  1.61306533 1.61809045 1.62311558 1.6281407\n",
      " 1.63316583 1.63819095 1.64321608 1.64824121 1.65326633 1.65829146\n",
      " 1.66331658 1.66834171 1.67336683 1.67839196 1.68341709 1.68844221\n",
      " 1.69346734 1.69849246 1.70351759 1.70854271 1.71356784 1.71859296\n",
      " 1.72361809 1.72864322 1.73366834 1.73869347 1.74371859 1.74874372\n",
      " 1.75376884 1.75879397 1.7638191  1.76884422 1.77386935 1.77889447\n",
      " 1.7839196  1.78894472 1.79396985 1.79899497 1.8040201  1.80904523\n",
      " 1.81407035 1.81909548 1.8241206  1.82914573 1.83417085 1.83919598\n",
      " 1.84422111 1.84924623 1.85427136 1.85929648 1.86432161 1.86934673\n",
      " 1.87437186 1.87939698 1.88442211 1.88944724 1.89447236 1.89949749\n",
      " 1.90452261 1.90954774 1.91457286 1.91959799 1.92462312 1.92964824\n",
      " 1.93467337 1.93969849 1.94472362 1.94974874 1.95477387 1.95979899\n",
      " 1.96482412 1.96984925 1.97487437 1.9798995  1.98492462 1.98994975\n",
      " 1.99497487 2.        ]\n",
      "[3.82327261 4.0215305  4.11227742 3.85366157 3.98740816 4.32833364\n",
      " 4.1125158  3.96782448 4.3733651  4.39481361 4.38476039 4.42140273\n",
      " 4.12205878 4.32256803 4.37590216 4.33810147 3.7939379  4.33607355\n",
      " 4.46738385 4.53054    4.31252275 4.43189294 3.89956296 4.01331496\n",
      " 3.5911122  4.43378378 5.0105037  5.06850118 4.22423105 4.77851324\n",
      " 4.98129129 4.53195157 4.05309868 5.09086432 4.57619837 4.58598932\n",
      " 5.23796687 4.88551358 5.01825895 5.26644799 4.76118837 4.53332095\n",
      " 5.08402874 4.8687894  5.1129868  5.03146532 4.70328173 4.9613362\n",
      " 4.87325687 4.92401066 5.00291183 5.14109133 5.11879629 4.69412236\n",
      " 5.28710893 4.68663021 5.80387713 4.92912455 5.16075554 5.60124714\n",
      " 5.15936619 4.85828431 4.82994061 5.36452208 5.42365567 5.56906723\n",
      " 5.42188093 5.2156835  5.52230701 5.83318471 5.18004353 6.51472192\n",
      " 5.33532995 5.85718044 6.06789026 5.79528178 5.63219119 5.77850145\n",
      " 5.98249222 4.80788649 5.75927601 5.51924547 5.45241038 5.7159509\n",
      " 5.75417537 5.86852632 5.56371552 6.09794722 5.14986897 5.50628658\n",
      " 5.45044313 5.86661997 5.70389673 6.03261844 5.65675298 6.2988862\n",
      " 6.1548306  5.79688084 5.46225217 5.63292105 5.54445572 6.40289015\n",
      " 6.27750918 5.68890526 6.65686194 6.02165603 5.45311481 6.47761945\n",
      " 6.56277038 6.1930763  5.94153557 6.60244761 6.09965433 6.2662358\n",
      " 6.43292361 6.40364213 6.19379141 6.03876954 6.59845106 5.72798814\n",
      " 6.51184767 6.51367654 6.61094024 6.36230044 6.55927054 6.75176197\n",
      " 6.21960819 6.5697576  6.68803242 6.21526227 6.32941023 7.10919005\n",
      " 6.96612004 6.45082292 6.91146915 6.8374656  7.15696161 7.09812715\n",
      " 6.04528715 6.70533147 7.22923956 7.32705545 6.67027778 6.50549974\n",
      " 6.97292682 6.72295936 6.93117136 6.60463136 7.20635477 7.16788823\n",
      " 7.15449086 6.70648943 6.54943977 6.69262462 7.24577945 6.57629836\n",
      " 7.33442774 7.68953536 6.98824499 7.14117698 7.51292892 7.51219208\n",
      " 7.07206083 7.22525377 7.33468732 7.23856875 7.51228688 7.45801046\n",
      " 7.7715145  6.88665123 7.77514863 7.68509201 7.42007436 7.60534712\n",
      " 7.79357192 7.61090688 7.46629222 7.64552358 7.37193524 7.20756785\n",
      " 7.35852247 7.40987184 7.7185746  7.92002533 7.77543247 8.15926288\n",
      " 7.71586889 7.56962978 7.56492899 7.53286166 7.7320517  8.25637772\n",
      " 7.42250786 8.05027029 7.90133015 8.17755924 7.80622524 8.18580189\n",
      " 7.8395502  8.19906049]\n",
      "[[4.089217]]\n"
     ]
    }
   ],
   "source": [
    "# 딥러닝을 구동하는데 필요한 케라스 합수를 불러온다\n",
    "from tensorflow.keras.models import Sequential\n",
    "from tensorflow.keras.layers import Dense\n",
    "from matplotlib import pyplot as plt\n",
    "\n",
    "# 필요한 라이브러리를 불러온다\n",
    "import numpy as np \n",
    "import tensorflow as tf\n",
    "\n",
    "# 1부터 2까지 200개 만들기 (들어가는 값)\n",
    "X = data = np.linspace(1,2,200)\n",
    "print(X)\n",
    "# 출력되는 값\n",
    "Y = X * 4 +np.random.randn(200) * 0.3\n",
    "print(Y)\n",
    "\n",
    "model = Sequential()\n",
    "model.add(Dense(1, input_dim = 1, activation='linear'))\n",
    "model.compile(optimizer='sgd', loss='mse', metrics=['mse'])\n",
    "# verbose \n",
    "model.fit(X,Y, batch_size=1, epochs=30, verbose=0)\n",
    "\n",
    "predict = model.predict([X[1]])\n",
    "print(predict)\n",
    "\n",
    "# plt.plot(data, predict, 'b', data, Y, 'k')\n",
    "# plt.show()"
   ]
  },
  {
   "cell_type": "code",
   "execution_count": 25,
   "id": "be07df45",
   "metadata": {},
   "outputs": [
    {
     "data": {
      "text/plain": [
       "0.004581462282249968"
      ]
     },
     "execution_count": 25,
     "metadata": {},
     "output_type": "execute_result"
    }
   ],
   "source": [
    "# x에 대응하는 y의 값 - 예측된 y값의 제곱 = mse (제곱편차)\n",
    "\n",
    "(4.0215305 - 4.089217) ** 2"
   ]
  },
  {
   "cell_type": "markdown",
   "id": "1aa4cd92",
   "metadata": {},
   "source": [
    "---"
   ]
  },
  {
   "cell_type": "markdown",
   "id": "10a9cacd",
   "metadata": {},
   "source": [
    "# 선형회귀"
   ]
  },
  {
   "cell_type": "code",
   "execution_count": 37,
   "id": "e79373f6",
   "metadata": {},
   "outputs": [
    {
     "name": "stdout",
     "output_type": "stream",
     "text": [
      "x와 y의 평균:  5.0 90.5 \n",
      "\n"
     ]
    },
    {
     "data": {
      "text/plain": [
       "20.0"
      ]
     },
     "execution_count": 37,
     "metadata": {},
     "output_type": "execute_result"
    }
   ],
   "source": [
    "import numpy as np\n",
    "\n",
    "# 선형회귀를 하기 위해 사전작업...\n",
    "x = [2,4,6,8]\n",
    "y = [81,93,91,97]\n",
    "\n",
    "mx = np.mean(x)\n",
    "my = np.mean(y)\n",
    "\n",
    "print(\"x와 y의 평균: \", mx, my, '\\n')\n",
    "\n",
    "# list_arr = []\n",
    "# for i in x:\n",
    "#     a = (mx - i ) ** 2\n",
    "#     print(a)\n",
    "#     list_arr.append(a)\n",
    "#     divisor = sum(list_arr)\n",
    " \n",
    "# divisor : x의 각 원소와 x의 평균값들의 차를 제곱해서 더한다.\n",
    "\n",
    "divisor = sum((mx - i) ** 2 for i in x)    #for문을 간단하게 적을 수 있다.\n",
    "    \n",
    "divisor"
   ]
  },
  {
   "cell_type": "code",
   "execution_count": 38,
   "id": "1c88de51",
   "metadata": {},
   "outputs": [
    {
     "data": {
      "text/plain": [
       "46.0"
      ]
     },
     "execution_count": 38,
     "metadata": {},
     "output_type": "execute_result"
    }
   ],
   "source": [
    "# 다음과 같이 분자 값을 구하는 함수(top함수)를 정의하여 dividend 변수에 분자의 값을 저장\n",
    "def top(x, mx, y, my):\n",
    "    d = sum((mx - x[i]) * (my - y[i]) for i in range(len(x)))\n",
    "    return d\n",
    "\n",
    "top(x, mx, y, my)"
   ]
  },
  {
   "cell_type": "code",
   "execution_count": 44,
   "id": "332900ce",
   "metadata": {},
   "outputs": [
    {
     "name": "stdout",
     "output_type": "stream",
     "text": [
      "기울기:  2.3 \n",
      "y절편:  79.0\n"
     ]
    }
   ],
   "source": [
    "dividend = top(x, mx, y, my)\n",
    "\n",
    "# 기울기\n",
    "a = dividend/divisor\n",
    "\n",
    "# y절편\n",
    "b = my - (mx * a)\n",
    "\n",
    "print('기울기: ', a, '\\ny절편: ', b)"
   ]
  },
  {
   "cell_type": "markdown",
   "id": "2a5a5b83",
   "metadata": {},
   "source": [
    "## 그래프로 나타내기"
   ]
  },
  {
   "cell_type": "code",
   "execution_count": 58,
   "id": "f68c98ea",
   "metadata": {},
   "outputs": [
    {
     "data": {
      "image/png": "[encoded data removed]",
      "text/plain": [
       "<Figure size 432x288 with 1 Axes>"
      ]
     },
     "metadata": {
      "needs_background": "light"
     },
     "output_type": "display_data"
    }
   ],
   "source": [
    "from matplotlib import pyplot as plt\n",
    "\n",
    "predict = []\n",
    "\n",
    "# 예측값 구하는 for문\n",
    "for i in x:\n",
    "    pre_y =  a * i + b\n",
    "    predict.append(pre_y)\n",
    "    \n",
    "\n",
    "plt.scatter(x , y)\n",
    "plt.plot(x, predict, c ='r')\n",
    "plt.show()"
   ]
  },
  {
   "cell_type": "code",
   "execution_count": 62,
   "id": "fd74dac2",
   "metadata": {},
   "outputs": [
    {
     "name": "stdout",
     "output_type": "stream",
     "text": [
      "11.0\n"
     ]
    }
   ],
   "source": [
    "import numpy as np\n",
    "\n",
    "# 가상의 기울기 a와 절편 b\n",
    "fake_a_b = [3,76]\n",
    "\n",
    "# x,y의 값\n",
    "data = [[2,81],[4,93],[6,91],[8,97]]\n",
    "\n",
    "x = [i[0] for i in data]\n",
    "y = [i[1] for i in data]\n",
    "\n",
    "# y = ax + b에 a,b값 대입하여 결과를 출력하는 함수\n",
    "def predict(x):\n",
    "    return fake_a_b[0] * x + fake_a_b[1]\n",
    "\n",
    "# MSE 함수\n",
    "def mse(y, y_hat):\n",
    "    return ((y - y_hat) ** 2).mean()\n",
    "\n",
    "# MSE 함수를 각 y값에 대응하여 최종 값을 구하는 함수\n",
    "def mse_val(y, predict_result):\n",
    "    return mse(np.array(y), np.array(predict_result))\n",
    "\n",
    "predict_result = []\n",
    "\n",
    "# x의 개수만큼 돌린다.\n",
    "for i in range(len(x)):    \n",
    "    predict_result.append(predict(x[i]))\n",
    "\n",
    "    \n",
    "# 오차값 출력\n",
    "print(mse_val(predict_result, y))"
   ]
  },
  {
   "cell_type": "markdown",
   "id": "aaa6d9d5",
   "metadata": {},
   "source": [
    "---"
   ]
  },
  {
   "cell_type": "code",
   "execution_count": 66,
   "id": "e7eeb5d2",
   "metadata": {},
   "outputs": [
    {
     "data": {
      "image/png": "[encoded data removed]",
      "text/plain": [
       "<Figure size 576x360 with 1 Axes>"
      ]
     },
     "metadata": {
      "needs_background": "light"
     },
     "output_type": "display_data"
    }
   ],
   "source": [
    "import numpy as np\n",
    "from matplotlib import pyplot as plt\n",
    "import pandas as pd\n",
    "\n",
    "data = [[2,81],[4,93],[6,91],[8,97]]\n",
    "x = [i[0] for i in data]\n",
    "y = [i[1] for i in data]\n",
    "\n",
    "plt.figure(figsize=(8,5))\n",
    "plt.scatter(x,y)\n",
    "plt.show()"
   ]
  },
  {
   "cell_type": "code",
   "execution_count": 65,
   "id": "50925f8d",
   "metadata": {},
   "outputs": [
    {
     "name": "stdout",
     "output_type": "stream",
     "text": [
      "epoch = 0, 기울기 = 27.8400, 절편 = 5.4300\n",
      "epoch = 100, 기울기 = 7.0739, 절편 = 50.5117\n",
      "epoch = 200, 기울기 = 4.0960, 절편 = 68.2822\n",
      "epoch = 300, 기울기 = 2.9757, 절편 = 74.9678\n",
      "epoch = 400, 기울기 = 2.5542, 절편 = 77.4830\n",
      "epoch = 500, 기울기 = 2.3956, 절편 = 78.4293\n",
      "epoch = 600, 기울기 = 2.3360, 절편 = 78.7853\n",
      "epoch = 700, 기울기 = 2.3135, 절편 = 78.9192\n",
      "epoch = 800, 기울기 = 2.3051, 절편 = 78.9696\n",
      "epoch = 900, 기울기 = 2.3019, 절편 = 78.9886\n",
      "epoch = 1000, 기울기 = 2.3007, 절편 = 78.9957\n",
      "epoch = 1100, 기울기 = 2.3003, 절편 = 78.9984\n",
      "epoch = 1200, 기울기 = 2.3001, 절편 = 78.9994\n",
      "epoch = 1300, 기울기 = 2.3000, 절편 = 78.9998\n",
      "epoch = 1400, 기울기 = 2.3000, 절편 = 78.9999\n",
      "epoch = 1500, 기울기 = 2.3000, 절편 = 79.0000\n",
      "epoch = 1600, 기울기 = 2.3000, 절편 = 79.0000\n",
      "epoch = 1700, 기울기 = 2.3000, 절편 = 79.0000\n",
      "epoch = 1800, 기울기 = 2.3000, 절편 = 79.0000\n",
      "epoch = 1900, 기울기 = 2.3000, 절편 = 79.0000\n",
      "epoch = 2000, 기울기 = 2.3000, 절편 = 79.0000\n"
     ]
    }
   ],
   "source": [
    "# 리스트로 되어 있는 x와 y값을 넘파이 배열로 변경\n",
    "x_data = np.array(x)\n",
    "y_data = np.array(y)\n",
    "\n",
    "# 기울기 a와 절편 b 초기화\n",
    "a = 0\n",
    "b = 0\n",
    "\n",
    "#학습률 정의\n",
    "lr = 0.03\n",
    "\n",
    "#학습 반복 설정\n",
    "epochs = 2001\n",
    "\n",
    "\n",
    "#경사 하강법 실행\n",
    "for i in range(epochs):\n",
    "    y_hat = a * x_data + b\n",
    "    error = y_data -  y_hat\n",
    "    a_diff = -(2/len(x_data)) * sum(x_data * (error))\n",
    "    b_diff = -(2/len(x_data)) * sum(error)\n",
    "    a = a - lr * a_diff\n",
    "    b = b - lr * b_diff\n",
    "    if i % 100 ==0:\n",
    "        print(\"epoch = %.f, 기울기 = %.04f, 절편 = %.04f\" % (i, a, b))\n",
    "        \n",
    "        \n",
    "\n",
    "# 기울기가 2.3이후로 변화 안 한다 = a값으로 받아줌\n",
    "# 절편은 78.9999정도로 받음\n"
   ]
  },
  {
   "cell_type": "markdown",
   "id": "0e72e2d0",
   "metadata": {},
   "source": [
    "---"
   ]
  },
  {
   "cell_type": "code",
   "execution_count": 68,
   "id": "2568a311",
   "metadata": {},
   "outputs": [
    {
     "data": {
      "text/plain": [
       "((100, 1), (100, 1))"
      ]
     },
     "execution_count": 68,
     "metadata": {},
     "output_type": "execute_result"
    },
    {
     "data": {
      "image/png": "[encoded data removed]",
      "text/plain": [
       "<Figure size 432x288 with 1 Axes>"
      ]
     },
     "metadata": {
      "needs_background": "light"
     },
     "output_type": "display_data"
    }
   ],
   "source": [
    "import numpy as np\n",
    "import matplotlib.pyplot as plt\n",
    "%matplotlib inline\n",
    "\n",
    "np.random.seed(0)\n",
    "\n",
    "x = 2 * np.random.rand(100, 1)\n",
    "y = 6 + 4 * x +np.random.randn(100,1)\n",
    "\n",
    "plt.scatter(x,y)\n",
    "\n",
    "x.shape, y.shape"
   ]
  },
  {
   "cell_type": "code",
   "execution_count": 75,
   "id": "4a0b168e",
   "metadata": {},
   "outputs": [
    {
     "name": "stdout",
     "output_type": "stream",
     "text": [
      "(100, 1)\n",
      "(1, 1) (1, 1)\n"
     ]
    },
    {
     "data": {
      "text/plain": [
       "(array([[0.]]), array([[0.]]))"
      ]
     },
     "execution_count": 75,
     "metadata": {},
     "output_type": "execute_result"
    }
   ],
   "source": [
    "#w1과 w0 를 업데이트 할 w1_updata, w0_update를 반환.\n",
    "def get_weigth_updates(w1, w0, S, y, learning_rate=0.01):\n",
    "    N = len(y)\n",
    "    #먼저 w1_update, w0_update를 각각 w1, w0의 shape와 동일한 크기를 가진 0값으로 초기화\n",
    "    w1_update = np.zeros_like(w1)\n",
    "    w0_update = np.zeros_like(w0)\n",
    "    #예측 배열 계산하고 예측과 실제 값의 차이 계산\n",
    "    y_pred = np.dot(x, w1.T) + w0\n",
    "    diff = y-y_pred\n",
    "    #w0_update 를 dot행렬 연산으로 구하기 위해 모두 1값을 가진 행렬 생성\n",
    "    w0_factors = np.ones((N,1))\n",
    "    #w1과 w0을 업데이트할 w1_date와 w0_update 계산\n",
    "    w1_update = -(2/N)*learning_rate*(np.dot(x.T, diff))\n",
    "    w0_update = -(2/N)*learning_rate*(np.dot(w0_factors.T, diff))\n",
    "    return w1_update, w0_update\n",
    "w0 = np.zeros((1,1))\n",
    "w1 = np.zeros((1,1))\n",
    "y_pred = np.dot(x, w1.T) + w0\n",
    "diff = y-y_pred\n",
    "print(diff.shape)\n",
    "w0_factors = np.ones((100,1))\n",
    "w1_update = -(2/100)*0.01*(np.dot(x.T, diff))\n",
    "w0_update = -(2/100)*0.01*(np.dot(w0_factors.T, diff))\n",
    "print(w1_update.shape, w0_update.shape)\n",
    "w1, w0"
   ]
  },
  {
   "cell_type": "code",
   "execution_count": 76,
   "id": "2980b676",
   "metadata": {},
   "outputs": [
    {
     "name": "stdout",
     "output_type": "stream",
     "text": [
      "w1:0.215, w0:0.199\n",
      "Grandient Descent Total Cost:19116.9891\n"
     ]
    }
   ],
   "source": [
    "# 입력 인자 iters로 주어진 횟수만큼 반복적으로 w1과 w0를 업데이트 적용함\n",
    "def gradient_descent_steps(X, y, iters=1000):\n",
    "    # w0,w1을 모두 0으로 초기화\n",
    "    w0 = np.zeros((1,1))\n",
    "    w1 = np.zeros((1,1))\n",
    "    \n",
    "    # 인자로 주어진  iters만큼 반복적으로 get_weight_pudates()를 호출 / w1,w0 업데이트 수행\n",
    "    for ind in range(iters):\n",
    "        w1_update, w0_update = get_weigth_updates(w1, w0, X, y, learning_rate=0.01)\n",
    "        w1 = w1 - w1_update\n",
    "        w0 = w0 - w0_update\n",
    "        return w1, w0\n",
    "def get_cost(y, y_pred):\n",
    "    N = len(y)\n",
    "    cost = np.sum(np.square(y - y_pred))/N\n",
    "    return cost\n",
    "w1, w0 = gradient_descent_steps(X, y, iters=1000)\n",
    "print(\"w1:{0:.3f}, w0:{1:.3f}\".format(w1[0,0], w0[0,0]))\n",
    "y_pred = w1[0,0] * X + w0\n",
    "print('Grandient Descent Total Cost:{0:.4f}'.format(get_cost(y, y_pred)))"
   ]
  },
  {
   "cell_type": "code",
   "execution_count": null,
   "id": "4707915c",
   "metadata": {},
   "outputs": [],
   "source": []
  }
 ],
 "metadata": {
  "kernelspec": {
   "display_name": "Python 3",
   "language": "python",
   "name": "python3"
  },
  "language_info": {
   "codemirror_mode": {
    "name": "ipython",
    "version": 3
   },
   "file_extension": ".py",
   "mimetype": "text/x-python",
   "name": "python",
   "nbconvert_exporter": "python",
   "pygments_lexer": "ipython3",
   "version": "3.8.9"
  }
 },
 "nbformat": 4,
 "nbformat_minor": 5
}
